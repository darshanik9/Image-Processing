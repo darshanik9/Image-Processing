{
 "cells": [
  {
   "cell_type": "markdown",
   "metadata": {},
   "source": [
    "        Data Science: A Programming Approach\n",
    "        Mahyar S Vaghefi\n",
    "        University of Texas Arlington\n",
    "        \n",
    "        This document can only be used for class studies. \n",
    "        You are not allowed to share it in any public platform."
   ]
  },
  {
   "cell_type": "markdown",
   "metadata": {},
   "source": [
    "<h1 align='center' style=\"color: blue;\">Individual Project - Spring 2022</h1>"
   ]
  },
  {
   "cell_type": "markdown",
   "metadata": {},
   "source": [
    "You need to work on a popular Fashion MNIST dataset for this project. The dataset includes tiny images of fashion pieces. The objective is to create a set of supervised learning models that can predict the type of item based on its image. You can use all different models that you learned about them in this course for yourr work. Keep in mind that this is a project, not a class assignmnet. So, not all steps are predetermined and you have more flexibility, and the final outcome is likely to be more detailed."
   ]
  },
  {
   "cell_type": "markdown",
   "metadata": {},
   "source": [
    "In order to load the dataset you need to have `tensorflow V2` on your computer. Use the following code to install the package"
   ]
  },
  {
   "cell_type": "markdown",
   "metadata": {},
   "source": [
    "You can also check the version of it using the following code."
   ]
  },
  {
   "cell_type": "code",
   "execution_count": 1,
   "metadata": {},
   "outputs": [
    {
     "data": {
      "text/plain": [
       "'2.8.0'"
      ]
     },
     "execution_count": 1,
     "metadata": {},
     "output_type": "execute_result"
    }
   ],
   "source": [
    "import tensorflow as tf\n",
    "tf.__version__"
   ]
  },
  {
   "cell_type": "markdown",
   "metadata": {},
   "source": [
    "Now, it's time to load the dataset"
   ]
  },
  {
   "cell_type": "code",
   "execution_count": 2,
   "metadata": {},
   "outputs": [],
   "source": [
    "from tensorflow import keras\n",
    "import pandas as pd\n",
    "fashion_mnist = keras.datasets.fashion_mnist\n",
    "(X_train, y_train), (X_test, y_test) = fashion_mnist.load_data()\n"
   ]
  },
  {
   "cell_type": "markdown",
   "metadata": {},
   "source": [
    "As can be seen from the above code, the dataset was divided into train and test sets. Let's take a look at the X_train"
   ]
  },
  {
   "cell_type": "code",
   "execution_count": 3,
   "metadata": {},
   "outputs": [
    {
     "data": {
      "text/plain": [
       "(60000, 784)"
      ]
     },
     "execution_count": 3,
     "metadata": {},
     "output_type": "execute_result"
    }
   ],
   "source": [
    "x_train = X_train.reshape(60000,784)\n",
    "x_train.shape"
   ]
  },
  {
   "cell_type": "markdown",
   "metadata": {},
   "source": [
    "As it is clear, the train dataset (`X_train`) contains 60,000 images of size 28 x 28. We can visualize one of the images using the following code:"
   ]
  },
  {
   "cell_type": "code",
   "execution_count": 4,
   "metadata": {},
   "outputs": [
    {
     "data": {
      "image/png": "[encoded data removed]",
      "text/plain": [
       "<Figure size 432x288 with 1 Axes>"
      ]
     },
     "metadata": {
      "needs_background": "light"
     },
     "output_type": "display_data"
    }
   ],
   "source": [
    "import matplotlib as mpl\n",
    "import matplotlib.pyplot as plt\n",
    "%matplotlib inline\n",
    "\n",
    "sample_image = X_train[10]\n",
    "plt.imshow(sample_image, cmap='binary')\n",
    "plt.axis('off')\n",
    "plt.show()"
   ]
  },
  {
   "cell_type": "markdown",
   "metadata": {},
   "source": [
    "The `y_train` also includes values between 0 and 9. Each represents a particular category. For example, we can check the value of `y_train` for the above image."
   ]
  },
  {
   "cell_type": "code",
   "execution_count": 5,
   "metadata": {},
   "outputs": [
    {
     "data": {
      "text/plain": [
       "0"
      ]
     },
     "execution_count": 5,
     "metadata": {},
     "output_type": "execute_result"
    }
   ],
   "source": [
    "y_train[10]"
   ]
  },
  {
   "cell_type": "markdown",
   "metadata": {},
   "source": [
    "The above code shows that the image belongs to category 0. To get the associated label with each category, you can use the following code:"
   ]
  },
  {
   "cell_type": "code",
   "execution_count": 6,
   "metadata": {},
   "outputs": [
    {
     "name": "stdout",
     "output_type": "stream",
     "text": [
      "T-shirt/top\n"
     ]
    }
   ],
   "source": [
    "class_names = ['T-shirt/top','Trouser','Pullover','Dress','Coat','Sandal','Shirt','Sneaker','Bag','Ankle boot']\n",
    "print(class_names[y_train[10]])"
   ]
  },
  {
   "cell_type": "markdown",
   "metadata": {},
   "source": [
    "Now, it's your turn,"
   ]
  },
  {
   "cell_type": "markdown",
   "metadata": {},
   "source": [
    "<ul>\n",
    "    <li><b>Task1:</b> Use the train set to train various supervised models and evaluate their performance using the test set.</li>\n",
    "    <ul>\n",
    "        <li>Use different supervised learning models.</li>\n",
    "        <li>Use different metrics such as <b>accutacy</b>, <b>precision</b>, <b>AUC</b>, and ... in your model evaluation. </li>\n",
    "        <li>It is not enough to report the metrics. It is crucial that you interpret the metrics for each model and compare them across different models.</li>\n",
    "        <li> You may need to use the cross validation methods for hyperparameter selection.</li>\n",
    "        <li> Specify the model that outperforms the other models.</b>\n",
    "    </ul>\n",
    "    <li><b>Task2:</b> Use the best model to predict your own fashion pieces.</li>\n",
    "    <ul>\n",
    "        <li>Take a picture of five fashion pieces of your own (take pictures in square format).</li>\n",
    "        <li>Resize images to the correct size (28,28).</li>\n",
    "        <li>Grayscale your images.</li>\n",
    "        <li>Visualize all the images side by side</li>\n",
    "        <li>Use the best model in Task 1 to predict the label of each of your own images.</li>\n",
    "        <li>How accurate is the final result?</li>\n",
    "    </ul>\n",
    "</ul>"
   ]
  },
  {
   "cell_type": "markdown",
   "metadata": {},
   "source": [
    "### Output"
   ]
  },
  {
   "cell_type": "markdown",
   "metadata": {},
   "source": [
    "<ul>\n",
    "    <li>Make sure to put descriptive comments on your code</li>\n",
    "    <li>Use the markdown cell format in Jupiter to add your own interpretation to the result in each section.</li>\n",
    "    <li>Make sure to keep the output of your runs when you want to save the final version of the file.</li>\n",
    "    <li>The final work should be very well structured and should have a consistent flow of analysis.</li>\n",
    "</ul>"
   ]
  },
  {
   "cell_type": "markdown",
   "metadata": {},
   "source": [
    "## Verifying the shape of train and test sets"
   ]
  },
  {
   "cell_type": "code",
   "execution_count": 7,
   "metadata": {},
   "outputs": [
    {
     "name": "stdout",
     "output_type": "stream",
     "text": [
      "\n",
      " Shape of X_train: (60000, 28, 28)\n",
      "\n",
      " Shape of y_train: (60000,)\n",
      "\n",
      " Shape of X_test: (10000, 28, 28)\n",
      "\n",
      " Shape of y_test: (10000,)\n"
     ]
    }
   ],
   "source": [
    "print(f'\\n Shape of X_train: {X_train.shape}')\n",
    "print(f'\\n Shape of y_train: {y_train.shape}')\n",
    "print(f'\\n Shape of X_test: {X_test.shape}')\n",
    "print(f'\\n Shape of y_test: {y_test.shape}')"
   ]
  },
  {
   "cell_type": "markdown",
   "metadata": {},
   "source": [
    "## fitting the logistic regression model and verifying with cross-validation score with 5 fold.\n",
    "\n",
    "# # Note:\n",
    "\n",
    "### It is difficult to plot the scatter plot or similar EDA visualization on this MNIST data set because it does not yield the sensible correlations and there are no normal independent variables.\n",
    "\n",
    "### Here there are just arrays depicting the pixels of image and the corresponding label."
   ]
  },
  {
   "cell_type": "code",
   "execution_count": 8,
   "metadata": {},
   "outputs": [
    {
     "name": "stderr",
     "output_type": "stream",
     "text": [
      "C:\\Users\\Darshanik\\anaconda3\\lib\\site-packages\\sklearn\\linear_model\\_logistic.py:763: ConvergenceWarning: lbfgs failed to converge (status=1):\n",
      "STOP: TOTAL NO. of ITERATIONS REACHED LIMIT.\n",
      "\n",
      "Increase the number of iterations (max_iter) or scale the data as shown in:\n",
      "    https://scikit-learn.org/stable/modules/preprocessing.html\n",
      "Please also refer to the documentation for alternative solver options:\n",
      "    https://scikit-learn.org/stable/modules/linear_model.html#logistic-regression\n",
      "  n_iter_i = _check_optimize_result(\n"
     ]
    },
    {
     "data": {
      "text/html": [
       "<div>\n",
       "<style scoped>\n",
       "    .dataframe tbody tr th:only-of-type {\n",
       "        vertical-align: middle;\n",
       "    }\n",
       "\n",
       "    .dataframe tbody tr th {\n",
       "        vertical-align: top;\n",
       "    }\n",
       "\n",
       "    .dataframe thead th {\n",
       "        text-align: right;\n",
       "    }\n",
       "</style>\n",
       "<table border=\"1\" class=\"dataframe\">\n",
       "  <thead>\n",
       "    <tr style=\"text-align: right;\">\n",
       "      <th></th>\n",
       "      <th>Predictions</th>\n",
       "    </tr>\n",
       "  </thead>\n",
       "  <tbody>\n",
       "    <tr>\n",
       "      <th>0</th>\n",
       "      <td>Ankle boot</td>\n",
       "    </tr>\n",
       "    <tr>\n",
       "      <th>1</th>\n",
       "      <td>Pullover</td>\n",
       "    </tr>\n",
       "    <tr>\n",
       "      <th>2</th>\n",
       "      <td>Trouser</td>\n",
       "    </tr>\n",
       "    <tr>\n",
       "      <th>3</th>\n",
       "      <td>Trouser</td>\n",
       "    </tr>\n",
       "    <tr>\n",
       "      <th>4</th>\n",
       "      <td>Shirt</td>\n",
       "    </tr>\n",
       "    <tr>\n",
       "      <th>...</th>\n",
       "      <td>...</td>\n",
       "    </tr>\n",
       "    <tr>\n",
       "      <th>9995</th>\n",
       "      <td>Ankle boot</td>\n",
       "    </tr>\n",
       "    <tr>\n",
       "      <th>9996</th>\n",
       "      <td>Trouser</td>\n",
       "    </tr>\n",
       "    <tr>\n",
       "      <th>9997</th>\n",
       "      <td>Bag</td>\n",
       "    </tr>\n",
       "    <tr>\n",
       "      <th>9998</th>\n",
       "      <td>Trouser</td>\n",
       "    </tr>\n",
       "    <tr>\n",
       "      <th>9999</th>\n",
       "      <td>Sandal</td>\n",
       "    </tr>\n",
       "  </tbody>\n",
       "</table>\n",
       "<p>10000 rows × 1 columns</p>\n",
       "</div>"
      ],
      "text/plain": [
       "     Predictions\n",
       "0     Ankle boot\n",
       "1       Pullover\n",
       "2        Trouser\n",
       "3        Trouser\n",
       "4          Shirt\n",
       "...          ...\n",
       "9995  Ankle boot\n",
       "9996     Trouser\n",
       "9997         Bag\n",
       "9998     Trouser\n",
       "9999      Sandal\n",
       "\n",
       "[10000 rows x 1 columns]"
      ]
     },
     "execution_count": 8,
     "metadata": {},
     "output_type": "execute_result"
    }
   ],
   "source": [
    "from sklearn.linear_model import LogisticRegression\n",
    "from sklearn.metrics import accuracy_score, classification_report, confusion_matrix\n",
    "x_train = X_train.reshape(60000,784)\n",
    "x_test = X_test.reshape(10000,784)\n",
    "Log_reg = LogisticRegression()\n",
    "Log_reg.fit(x_train,y_train)\n",
    "y_pred_log = Log_reg.predict(x_test)\n",
    "y_pred_log_train = Log_reg.predict(x_train)\n",
    "def classifier(img_array, Class_names):\n",
    "    clas_list = []\n",
    "    for i in img_array:\n",
    "        clas_list.append(Class_names[i])\n",
    "    Predictions = pd.DataFrame(clas_list, columns = ['Predictions'])\n",
    "    return Predictions\n",
    "classifier(y_pred_log,class_names)\n",
    "\n"
   ]
  },
  {
   "cell_type": "code",
   "execution_count": 9,
   "metadata": {},
   "outputs": [
    {
     "name": "stdout",
     "output_type": "stream",
     "text": [
      "\n",
      " Out-sample Accuracy of Logistic Regression: 84.11999999999999\n",
      "\n",
      " In-sample Accuracy of Logistic Regression: 86.32\n",
      "\n",
      " Classification Report of Out-sample Logistic Regression:\n",
      "\n",
      "                precision    recall  f1-score   support\n",
      "\n",
      "           0       0.81      0.81      0.81      1000\n",
      "           1       0.97      0.96      0.96      1000\n",
      "           2       0.73      0.74      0.73      1000\n",
      "           3       0.84      0.86      0.85      1000\n",
      "           4       0.71      0.78      0.74      1000\n",
      "           5       0.94      0.89      0.92      1000\n",
      "           6       0.64      0.55      0.59      1000\n",
      "           7       0.90      0.93      0.92      1000\n",
      "           8       0.93      0.95      0.94      1000\n",
      "           9       0.93      0.94      0.94      1000\n",
      "\n",
      "    accuracy                           0.84     10000\n",
      "   macro avg       0.84      0.84      0.84     10000\n",
      "weighted avg       0.84      0.84      0.84     10000\n",
      "\n",
      "\n",
      " Confusion Matrix of Out-sample Logistic Regression\n",
      "\n",
      " [[812   5  16  46   9   0  98   0  14   0]\n",
      " [  2 960   1  27   4   0   4   0   2   0]\n",
      " [ 18   6 737  11 140   1  78   0   9   0]\n",
      " [ 25  15  15 858  44   1  37   0   5   0]\n",
      " [  0   3 106  33 779   1  70   0   8   0]\n",
      " [  1   1   0   0   0 891   0  56   9  42]\n",
      " [139   3 129  42 114   0 550   0  23   0]\n",
      " [  0   0   0   0   0  36   0 933   0  31]\n",
      " [  3   1   7  10   2   3  21   5 947   1]\n",
      " [  0   0   0   0   0  13   0  39   3 945]]\n"
     ]
    }
   ],
   "source": [
    "def Metrics(y_test,y_train,pred_values_train,pred_values_test,model_name):\n",
    "    print(f'\\n Out-sample Accuracy of {model_name}: {accuracy_score(y_test,pred_values_test)*100}')\n",
    "    print(f'\\n In-sample Accuracy of {model_name}: {accuracy_score(y_train,pred_values_train)*100}')\n",
    "    print(f'\\n Classification Report of Out-sample {model_name}:')\n",
    "    print(f'\\n  {classification_report(y_test,pred_values_test)}')\n",
    "    print(f'\\n Confusion Matrix of Out-sample {model_name}')\n",
    "    print(f'\\n {confusion_matrix(y_test,pred_values_test)}')\n",
    "    \n",
    "Metrics(y_test,y_train,y_pred_log_train,y_pred_log, \"Logistic Regression\")"
   ]
  },
  {
   "cell_type": "markdown",
   "metadata": {},
   "source": [
    "### If we look at Precesion and recall for \"pullover\" type in classification report, it has very high precesion and recall compared to other fashion clothes. \n",
    "\n",
    "### This ultimately resulted in high F1-score. However, the Logistic regression model accuracy is 84.12%\n",
    "\n",
    "### But the key take away is with logistic regression model I can classify the pullover fashion type more precisely and accurately compared to other fashion mnist types and the model's overall accuracy is 84.12% which is mediocre.\n",
    "\n",
    "### Hence there is a need for more flexible and robust model that can incorporate high precesion, high recall and high accuracy for max possible types of mnist fashion.\n",
    "\n",
    "# NOTE: \n",
    "\n",
    "### when it comes to the importance of precision or recall, in our case recall is more important because I want the diverse fashion mnist types to be classified correctly(recall) rather than classifying correctly only certain mnist types(precesion)"
   ]
  },
  {
   "cell_type": "code",
   "execution_count": 10,
   "metadata": {},
   "outputs": [
    {
     "data": {
      "image/png": "[encoded data removed]",
      "text/plain": [
       "<Figure size 432x288 with 1 Axes>"
      ]
     },
     "metadata": {
      "needs_background": "light"
     },
     "output_type": "display_data"
    }
   ],
   "source": [
    "logistic_regression_predictions = classifier(y_pred_log,class_names)\n",
    "def SeeMnist(array_name, label):\n",
    "    plt.imshow(array_name.reshape(28,28))\n",
    "    plt.title(f\"{label}\")\n",
    "    plt.show()\n",
    "    \n",
    "SeeMnist(x_test[1], logistic_regression_predictions.iloc[1])"
   ]
  },
  {
   "cell_type": "markdown",
   "metadata": {},
   "source": [
    "## Random Forrest"
   ]
  },
  {
   "cell_type": "code",
   "execution_count": 11,
   "metadata": {},
   "outputs": [],
   "source": [
    "from sklearn.tree import DecisionTreeClassifier \n",
    "from sklearn.ensemble import BaggingClassifier\n",
    "from sklearn.ensemble import RandomForestClassifier\n",
    "\n",
    "rf_model = RandomForestClassifier(n_estimators=150, random_state=5)\n",
    "rf_model.fit(x_train,y_train)\n",
    "\n",
    "# let's check in-sample and out-of-sample accuracy\n",
    "y_rf_pred_train  = rf_model.predict(x_train)\n",
    "y_rf_pred_test  = rf_model.predict(x_test)"
   ]
  },
  {
   "cell_type": "markdown",
   "metadata": {},
   "source": [
    "## Saving the state of random forrest for further use rather than running frequently"
   ]
  },
  {
   "cell_type": "code",
   "execution_count": 12,
   "metadata": {},
   "outputs": [],
   "source": [
    "import pickle\n",
    "import os\n",
    "filename = \"randomForrest.dat\"\n",
    "outfile = open(filename,\"wb\")\n",
    "random_forrest = pickle.dump(rf_model,outfile)\n",
    "outfile.close()\n",
    "infile = open(filename,\"rb\")\n",
    "random_forrest_model_state = pickle.load(infile)"
   ]
  },
  {
   "cell_type": "code",
   "execution_count": 13,
   "metadata": {},
   "outputs": [
    {
     "data": {
      "text/plain": [
       "RandomForestClassifier(n_estimators=150, random_state=5)"
      ]
     },
     "execution_count": 13,
     "metadata": {},
     "output_type": "execute_result"
    }
   ],
   "source": [
    "random_forrest_model_state"
   ]
  },
  {
   "cell_type": "code",
   "execution_count": 14,
   "metadata": {},
   "outputs": [
    {
     "data": {
      "text/html": [
       "<div>\n",
       "<style scoped>\n",
       "    .dataframe tbody tr th:only-of-type {\n",
       "        vertical-align: middle;\n",
       "    }\n",
       "\n",
       "    .dataframe tbody tr th {\n",
       "        vertical-align: top;\n",
       "    }\n",
       "\n",
       "    .dataframe thead th {\n",
       "        text-align: right;\n",
       "    }\n",
       "</style>\n",
       "<table border=\"1\" class=\"dataframe\">\n",
       "  <thead>\n",
       "    <tr style=\"text-align: right;\">\n",
       "      <th></th>\n",
       "      <th>Predictions</th>\n",
       "    </tr>\n",
       "  </thead>\n",
       "  <tbody>\n",
       "    <tr>\n",
       "      <th>0</th>\n",
       "      <td>Ankle boot</td>\n",
       "    </tr>\n",
       "    <tr>\n",
       "      <th>1</th>\n",
       "      <td>Pullover</td>\n",
       "    </tr>\n",
       "    <tr>\n",
       "      <th>2</th>\n",
       "      <td>Trouser</td>\n",
       "    </tr>\n",
       "    <tr>\n",
       "      <th>3</th>\n",
       "      <td>Trouser</td>\n",
       "    </tr>\n",
       "    <tr>\n",
       "      <th>4</th>\n",
       "      <td>Shirt</td>\n",
       "    </tr>\n",
       "    <tr>\n",
       "      <th>...</th>\n",
       "      <td>...</td>\n",
       "    </tr>\n",
       "    <tr>\n",
       "      <th>9995</th>\n",
       "      <td>Ankle boot</td>\n",
       "    </tr>\n",
       "    <tr>\n",
       "      <th>9996</th>\n",
       "      <td>Trouser</td>\n",
       "    </tr>\n",
       "    <tr>\n",
       "      <th>9997</th>\n",
       "      <td>Bag</td>\n",
       "    </tr>\n",
       "    <tr>\n",
       "      <th>9998</th>\n",
       "      <td>Trouser</td>\n",
       "    </tr>\n",
       "    <tr>\n",
       "      <th>9999</th>\n",
       "      <td>Sandal</td>\n",
       "    </tr>\n",
       "  </tbody>\n",
       "</table>\n",
       "<p>10000 rows × 1 columns</p>\n",
       "</div>"
      ],
      "text/plain": [
       "     Predictions\n",
       "0     Ankle boot\n",
       "1       Pullover\n",
       "2        Trouser\n",
       "3        Trouser\n",
       "4          Shirt\n",
       "...          ...\n",
       "9995  Ankle boot\n",
       "9996     Trouser\n",
       "9997         Bag\n",
       "9998     Trouser\n",
       "9999      Sandal\n",
       "\n",
       "[10000 rows x 1 columns]"
      ]
     },
     "execution_count": 14,
     "metadata": {},
     "output_type": "execute_result"
    }
   ],
   "source": [
    "random_forrest_predictions = classifier(y_rf_pred_test,class_names)\n",
    "random_forrest_predictions"
   ]
  },
  {
   "cell_type": "code",
   "execution_count": 15,
   "metadata": {},
   "outputs": [
    {
     "name": "stdout",
     "output_type": "stream",
     "text": [
      "\n",
      " Out-sample Accuracy of Random Forrest Classifier: 87.7\n",
      "\n",
      " In-sample Accuracy of Random Forrest Classifier: 100.0\n",
      "\n",
      " Classification Report of Out-sample Random Forrest Classifier:\n",
      "\n",
      "                precision    recall  f1-score   support\n",
      "\n",
      "           0       0.82      0.86      0.84      1000\n",
      "           1       1.00      0.96      0.98      1000\n",
      "           2       0.77      0.80      0.79      1000\n",
      "           3       0.87      0.90      0.89      1000\n",
      "           4       0.76      0.82      0.79      1000\n",
      "           5       0.98      0.96      0.97      1000\n",
      "           6       0.72      0.59      0.65      1000\n",
      "           7       0.93      0.95      0.94      1000\n",
      "           8       0.96      0.97      0.97      1000\n",
      "           9       0.95      0.95      0.95      1000\n",
      "\n",
      "    accuracy                           0.88     10000\n",
      "   macro avg       0.88      0.88      0.88     10000\n",
      "weighted avg       0.88      0.88      0.88     10000\n",
      "\n",
      "\n",
      " Confusion Matrix of Out-sample Random Forrest Classifier\n",
      "\n",
      " [[860   0  12  30   3   1  83   0  11   0]\n",
      " [  3 960   2  24   4   0   6   0   1   0]\n",
      " [ 12   0 796  10 125   0  53   0   4   0]\n",
      " [ 21   2   8 903  31   0  32   0   2   1]\n",
      " [  1   0  84  36 825   0  52   0   2   0]\n",
      " [  0   0   0   1   0 960   0  29   1   9]\n",
      " [154   1 121  28  86   0 591   0  19   0]\n",
      " [  0   0   0   0   0  10   0 954   0  36]\n",
      " [  0   1   5   3   5   2   7   4 973   0]\n",
      " [  0   0   0   0   0   8   0  41   3 948]]\n"
     ]
    }
   ],
   "source": [
    "Metrics(y_test,y_train,y_rf_pred_train,y_rf_pred_test,\"Random Forrest Classifier\")"
   ]
  },
  {
   "cell_type": "markdown",
   "metadata": {},
   "source": [
    "# Random Forrest model's metrics interpretation:\n",
    "\n",
    "### If we have a look at the Classification report of Random Forrest model, the Overall Accuracy is improved to 85 ~ 88% a 3% increase from standard Logistic regression model\n",
    "\n",
    "### Not only that even the precision and recall scores are significantly improved making our random forrest model close to predict diverse mnist types unlike logistic regression's \"pullover\" biasing.\n",
    "\n",
    "### Though we are interested in recall more than precesion, this model has given satisfactory results for both recall and precesion implying the increased robustness of random forrest model.\n",
    "\n",
    "### So for time being we can assume that ideal model to appropriately predict diverse mnist fashion types is random forrest.\n",
    "\n",
    "# But is our Random Forrest really perfect?\n",
    "\n",
    "### Not so perfect. Again have a look at classification metrics. For \"label 6\" mnist type, recall is lowest among all i.e just 59% and even precision is also lowest 76%\n",
    "\n",
    "### So lets have a look at what that \"label 6\" actually meant in terms of class names and visually."
   ]
  },
  {
   "cell_type": "code",
   "execution_count": 16,
   "metadata": {},
   "outputs": [
    {
     "data": {
      "image/png": "[encoded data removed]",
      "text/plain": [
       "<Figure size 432x288 with 1 Axes>"
      ]
     },
     "metadata": {
      "needs_background": "light"
     },
     "output_type": "display_data"
    }
   ],
   "source": [
    "SeeMnist(x_test[6],random_forrest_predictions.iloc[6])"
   ]
  },
  {
   "cell_type": "markdown",
   "metadata": {},
   "source": [
    "## So, random forrest is having difficulty in identifying coat but is good at identifying remaining 9 mnist types.\n",
    "\n",
    "# Is it possible to overcome this shortcoming with neural net?\n",
    "\n",
    "### Let us find if Neural net can overcome this minute shortcoming.\n",
    "\n",
    "### Another reason to try neural net is the Mnist data set is kind of large with a total shape of 70000 rows and each image with 28x28 pixels i.e, (70000, 28, 28) or (70000, 784)"
   ]
  },
  {
   "cell_type": "code",
   "execution_count": 17,
   "metadata": {},
   "outputs": [],
   "source": [
    "from sklearn.neural_network import MLPClassifier\n",
    "Neural_net_model = MLPClassifier(solver='sgd',random_state=5, activation=\"logistic\", early_stopping = True, validation_fraction=0.3)\n",
    "Neural_net_model.fit(x_train,y_train)\n",
    "y_nn_pred_train = Neural_net_model.predict(x_train)\n",
    "y_nn_pred_test = Neural_net_model.predict(x_test)"
   ]
  },
  {
   "cell_type": "code",
   "execution_count": 18,
   "metadata": {},
   "outputs": [
    {
     "name": "stdout",
     "output_type": "stream",
     "text": [
      "\n",
      " Out-sample Accuracy of Neural Network Classifier: 84.52\n",
      "\n",
      " In-sample Accuracy of Neural Network Classifier: 86.80333333333333\n",
      "\n",
      " Classification Report of Out-sample Neural Network Classifier:\n",
      "\n",
      "                precision    recall  f1-score   support\n",
      "\n",
      "           0       0.79      0.83      0.81      1000\n",
      "           1       0.97      0.96      0.96      1000\n",
      "           2       0.73      0.73      0.73      1000\n",
      "           3       0.87      0.85      0.86      1000\n",
      "           4       0.71      0.79      0.74      1000\n",
      "           5       0.96      0.93      0.94      1000\n",
      "           6       0.65      0.55      0.60      1000\n",
      "           7       0.92      0.92      0.92      1000\n",
      "           8       0.93      0.95      0.94      1000\n",
      "           9       0.92      0.95      0.93      1000\n",
      "\n",
      "    accuracy                           0.85     10000\n",
      "   macro avg       0.84      0.85      0.84     10000\n",
      "weighted avg       0.84      0.85      0.84     10000\n",
      "\n",
      "\n",
      " Confusion Matrix of Out-sample Neural Network Classifier\n",
      "\n",
      " [[835   4  13  34   5   0  94   0  15   0]\n",
      " [  2 956  10  23   4   0   3   0   2   0]\n",
      " [ 18   2 727   9 162   1  74   0   7   0]\n",
      " [ 38  19   9 848  47   1  34   0   4   0]\n",
      " [  0   1 101  29 785   1  76   0   7   0]\n",
      " [  1   0   0   1   0 925   0  33   6  34]\n",
      " [165   2 126  29 103   0 550   0  25   0]\n",
      " [  0   0   0   0   0  26   0 922   0  52]\n",
      " [  2   1  15   6   5   2  10   6 952   1]\n",
      " [  0   0   0   0   0   7   0  39   2 952]]\n"
     ]
    }
   ],
   "source": [
    "Metrics(y_test,y_train,y_nn_pred_train,y_nn_pred_test,\"Neural Network Classifier\")"
   ]
  },
  {
   "cell_type": "markdown",
   "metadata": {},
   "source": [
    "# Not satisfactory!\n",
    "\n",
    "### as noticed from classification report and accuracy scores of neural net is dissapointing.\n",
    "\n",
    "### But we can check the true potential of Neural net using Grid Search Cv to get the best hyperparameters for our NN-model."
   ]
  },
  {
   "cell_type": "code",
   "execution_count": 19,
   "metadata": {
    "scrolled": true
   },
   "outputs": [
    {
     "name": "stdout",
     "output_type": "stream",
     "text": [
      "Best Parameter: {'activation': 'logistic', 'alpha': 0.0001, 'learning_rate': 'constant', 'solver': 'sgd', 'validation_fraction': 0.2}\n",
      "Best Cross Vlidation Score: 0.8471500000000001\n"
     ]
    }
   ],
   "source": [
    "from sklearn.model_selection import GridSearchCV\n",
    "from sklearn.model_selection import StratifiedKFold\n",
    "import numpy as np\n",
    "import warnings\n",
    "warnings.filterwarnings('ignore')\n",
    "\n",
    "param_grid = {'activation':['logistic','identity'], 'solver':['sgd'],'validation_fraction':[0.2], 'alpha': np.arange(0.0001,0.0009), 'learning_rate':['constant','invscaling']}\n",
    "cv = StratifiedKFold(n_splits=5, random_state=5, shuffle=True)\n",
    "grid_neural = GridSearchCV(Neural_net_model, param_grid, cv = cv, scoring='accuracy',\n",
    "                    return_train_score=True)\n",
    "grid_neural.fit(x_train, y_train)\n",
    "\n",
    "print(\"Best Parameter: {}\".format(grid_neural.best_params_))\n",
    "print(\"Best Cross Vlidation Score: {}\".format(grid_neural.best_score_))"
   ]
  },
  {
   "cell_type": "markdown",
   "metadata": {},
   "source": [
    "# So, Neural network is not a good model for this data set. \n",
    "\n",
    "### It is evident that Grid search cv yielded in best accuracy as 84.71%. However, we got 85% out-sample accuracy without grid search.\n",
    "\n",
    "### Not only that, Recall our point of focus is not great as that of Random Forrest classifier."
   ]
  },
  {
   "cell_type": "markdown",
   "metadata": {},
   "source": [
    "# Part-2: Importing images of various fashion brands"
   ]
  },
  {
   "cell_type": "code",
   "execution_count": 20,
   "metadata": {},
   "outputs": [],
   "source": [
    "import matplotlib.image as mpimg\n",
    "import matplotlib.pyplot as plt\n",
    "%matplotlib inline\n",
    "\n",
    "\n",
    "COL = ['coat.JPEG','pullover.jfif','pullover2.JPEG','Sneaker2.JPEG','Sandal.JPEG']"
   ]
  },
  {
   "cell_type": "markdown",
   "metadata": {},
   "source": [
    "## Resizing and converting the images to grey_scale as our model only recognizes images in grey_scale"
   ]
  },
  {
   "cell_type": "code",
   "execution_count": 21,
   "metadata": {},
   "outputs": [],
   "source": [
    "#image1 = sneaker1_image.transpose(2,0,1).reshape(3,-1)\n",
    "from PIL import Image\n",
    "\n",
    "for i in COL:\n",
    "    img = Image.open(i)\n",
    "    resized_img = img.resize((28, 28))\n",
    "    converted_img = img.convert(\"L\")\n",
    "    converted_img.save(f\"{i}\")\n"
   ]
  },
  {
   "cell_type": "code",
   "execution_count": 22,
   "metadata": {},
   "outputs": [
    {
     "data": {
      "text/plain": [
       "(28, 28)"
      ]
     },
     "execution_count": 22,
     "metadata": {},
     "output_type": "execute_result"
    }
   ],
   "source": [
    "test2_image = np.array(mpimg.imread(\"coat.JPEG\"))\n",
    "test3_image = np.array(mpimg.imread(\"pullover.jfif\"))\n",
    "test4_image = np.array(mpimg.imread(\"pullover2.JPEG\"))\n",
    "test5_image = np.array(mpimg.imread(\"Sneaker2.JPEG\"))\n",
    "test6_image = np.array(mpimg.imread(\"Sandal.JPEG\"))\n",
    "\n",
    "test2_image.shape\n"
   ]
  },
  {
   "cell_type": "code",
   "execution_count": 23,
   "metadata": {},
   "outputs": [
    {
     "data": {
      "image/png": "[encoded data removed]",
      "text/plain": [
       "<Figure size 360x648 with 5 Axes>"
      ]
     },
     "metadata": {
      "needs_background": "light"
     },
     "output_type": "display_data"
    }
   ],
   "source": [
    "\n",
    "fig, ax = plt.subplots(1,5,figsize=(5,9))\n",
    "ax[0].imshow(test2_image)\n",
    "ax[1].imshow(test3_image)\n",
    "ax[2].imshow(test4_image)\n",
    "ax[3].imshow(test5_image)\n",
    "ax[4].imshow(test6_image)\n",
    "#ax.set(xticks=[], yticks=[])\n",
    "plt.show()"
   ]
  },
  {
   "cell_type": "markdown",
   "metadata": {},
   "source": [
    "## Testing the model to predict our own images!"
   ]
  },
  {
   "cell_type": "code",
   "execution_count": 24,
   "metadata": {},
   "outputs": [
    {
     "data": {
      "text/html": [
       "<div>\n",
       "<style scoped>\n",
       "    .dataframe tbody tr th:only-of-type {\n",
       "        vertical-align: middle;\n",
       "    }\n",
       "\n",
       "    .dataframe tbody tr th {\n",
       "        vertical-align: top;\n",
       "    }\n",
       "\n",
       "    .dataframe thead th {\n",
       "        text-align: right;\n",
       "    }\n",
       "</style>\n",
       "<table border=\"1\" class=\"dataframe\">\n",
       "  <thead>\n",
       "    <tr style=\"text-align: right;\">\n",
       "      <th></th>\n",
       "      <th>Predictions</th>\n",
       "    </tr>\n",
       "  </thead>\n",
       "  <tbody>\n",
       "    <tr>\n",
       "      <th>0</th>\n",
       "      <td>Bag</td>\n",
       "    </tr>\n",
       "  </tbody>\n",
       "</table>\n",
       "</div>"
      ],
      "text/plain": [
       "  Predictions\n",
       "0         Bag"
      ]
     },
     "execution_count": 24,
     "metadata": {},
     "output_type": "execute_result"
    }
   ],
   "source": [
    "def recognizer(image_name, model_name):\n",
    "    test_pred = model_name.predict(image_name.reshape(1,784))\n",
    "    prediction= classifier(test_pred, class_names)\n",
    "    return prediction\n",
    "recognizer(test2_image,rf_model)"
   ]
  },
  {
   "cell_type": "markdown",
   "metadata": {},
   "source": [
    "## Wrong! Actual image is coat"
   ]
  },
  {
   "cell_type": "code",
   "execution_count": 25,
   "metadata": {},
   "outputs": [
    {
     "data": {
      "text/html": [
       "<div>\n",
       "<style scoped>\n",
       "    .dataframe tbody tr th:only-of-type {\n",
       "        vertical-align: middle;\n",
       "    }\n",
       "\n",
       "    .dataframe tbody tr th {\n",
       "        vertical-align: top;\n",
       "    }\n",
       "\n",
       "    .dataframe thead th {\n",
       "        text-align: right;\n",
       "    }\n",
       "</style>\n",
       "<table border=\"1\" class=\"dataframe\">\n",
       "  <thead>\n",
       "    <tr style=\"text-align: right;\">\n",
       "      <th></th>\n",
       "      <th>Predictions</th>\n",
       "    </tr>\n",
       "  </thead>\n",
       "  <tbody>\n",
       "    <tr>\n",
       "      <th>0</th>\n",
       "      <td>Shirt</td>\n",
       "    </tr>\n",
       "  </tbody>\n",
       "</table>\n",
       "</div>"
      ],
      "text/plain": [
       "  Predictions\n",
       "0       Shirt"
      ]
     },
     "execution_count": 25,
     "metadata": {},
     "output_type": "execute_result"
    }
   ],
   "source": [
    "recognizer(test3_image,rf_model)"
   ]
  },
  {
   "cell_type": "markdown",
   "metadata": {},
   "source": [
    "## Correct! Actual image is shirt"
   ]
  },
  {
   "cell_type": "code",
   "execution_count": 26,
   "metadata": {},
   "outputs": [
    {
     "data": {
      "text/html": [
       "<div>\n",
       "<style scoped>\n",
       "    .dataframe tbody tr th:only-of-type {\n",
       "        vertical-align: middle;\n",
       "    }\n",
       "\n",
       "    .dataframe tbody tr th {\n",
       "        vertical-align: top;\n",
       "    }\n",
       "\n",
       "    .dataframe thead th {\n",
       "        text-align: right;\n",
       "    }\n",
       "</style>\n",
       "<table border=\"1\" class=\"dataframe\">\n",
       "  <thead>\n",
       "    <tr style=\"text-align: right;\">\n",
       "      <th></th>\n",
       "      <th>Predictions</th>\n",
       "    </tr>\n",
       "  </thead>\n",
       "  <tbody>\n",
       "    <tr>\n",
       "      <th>0</th>\n",
       "      <td>Shirt</td>\n",
       "    </tr>\n",
       "  </tbody>\n",
       "</table>\n",
       "</div>"
      ],
      "text/plain": [
       "  Predictions\n",
       "0       Shirt"
      ]
     },
     "execution_count": 26,
     "metadata": {},
     "output_type": "execute_result"
    }
   ],
   "source": [
    "recognizer(test4_image,rf_model)"
   ]
  },
  {
   "cell_type": "markdown",
   "metadata": {},
   "source": [
    "## Correct! Actual Image is shirt/hoody"
   ]
  },
  {
   "cell_type": "code",
   "execution_count": 27,
   "metadata": {},
   "outputs": [
    {
     "data": {
      "text/html": [
       "<div>\n",
       "<style scoped>\n",
       "    .dataframe tbody tr th:only-of-type {\n",
       "        vertical-align: middle;\n",
       "    }\n",
       "\n",
       "    .dataframe tbody tr th {\n",
       "        vertical-align: top;\n",
       "    }\n",
       "\n",
       "    .dataframe thead th {\n",
       "        text-align: right;\n",
       "    }\n",
       "</style>\n",
       "<table border=\"1\" class=\"dataframe\">\n",
       "  <thead>\n",
       "    <tr style=\"text-align: right;\">\n",
       "      <th></th>\n",
       "      <th>Predictions</th>\n",
       "    </tr>\n",
       "  </thead>\n",
       "  <tbody>\n",
       "    <tr>\n",
       "      <th>0</th>\n",
       "      <td>Bag</td>\n",
       "    </tr>\n",
       "  </tbody>\n",
       "</table>\n",
       "</div>"
      ],
      "text/plain": [
       "  Predictions\n",
       "0         Bag"
      ]
     },
     "execution_count": 27,
     "metadata": {},
     "output_type": "execute_result"
    }
   ],
   "source": [
    "recognizer(test5_image,rf_model)"
   ]
  },
  {
   "cell_type": "markdown",
   "metadata": {},
   "source": [
    "## Wrong! Actual image is Sneaker"
   ]
  },
  {
   "cell_type": "code",
   "execution_count": 28,
   "metadata": {},
   "outputs": [
    {
     "data": {
      "text/html": [
       "<div>\n",
       "<style scoped>\n",
       "    .dataframe tbody tr th:only-of-type {\n",
       "        vertical-align: middle;\n",
       "    }\n",
       "\n",
       "    .dataframe tbody tr th {\n",
       "        vertical-align: top;\n",
       "    }\n",
       "\n",
       "    .dataframe thead th {\n",
       "        text-align: right;\n",
       "    }\n",
       "</style>\n",
       "<table border=\"1\" class=\"dataframe\">\n",
       "  <thead>\n",
       "    <tr style=\"text-align: right;\">\n",
       "      <th></th>\n",
       "      <th>Predictions</th>\n",
       "    </tr>\n",
       "  </thead>\n",
       "  <tbody>\n",
       "    <tr>\n",
       "      <th>0</th>\n",
       "      <td>Shirt</td>\n",
       "    </tr>\n",
       "  </tbody>\n",
       "</table>\n",
       "</div>"
      ],
      "text/plain": [
       "  Predictions\n",
       "0       Shirt"
      ]
     },
     "execution_count": 28,
     "metadata": {},
     "output_type": "execute_result"
    }
   ],
   "source": [
    "recognizer(test6_image,rf_model)"
   ]
  },
  {
   "cell_type": "markdown",
   "metadata": {},
   "source": [
    "## Wrong! Actual image is Sandel"
   ]
  },
  {
   "cell_type": "markdown",
   "metadata": {},
   "source": [
    "## Final score of model for identifying 5 images: 3 out of 5\n",
    "\n",
    "# In a word Awful!! \n",
    "\n",
    "## Looks like the model is having difficulty in identifying coat(so our interpretation of random forrest unable to identify coat is correct!).\n",
    "\n",
    "## Model is doing terribly poor in identifying Sandal and sneaker\n",
    "\n",
    "### Let us have a look at test set sandal image!"
   ]
  },
  {
   "cell_type": "code",
   "execution_count": 29,
   "metadata": {},
   "outputs": [
    {
     "data": {
      "image/png": "[encoded data removed]",
      "text/plain": [
       "<Figure size 432x288 with 1 Axes>"
      ]
     },
     "metadata": {
      "needs_background": "light"
     },
     "output_type": "display_data"
    }
   ],
   "source": [
    "SeeMnist(x_test[9999],random_forrest_predictions.iloc[9999])"
   ]
  },
  {
   "cell_type": "markdown",
   "metadata": {},
   "source": [
    "## So basically, the image itself is very different and very low in pixel quality. our model can identify pair of sandals. \n",
    "\n",
    "## But I have given it single addidas sandal\n",
    "\n",
    "## But if we have a closer look at image it is not even a sandal, it is a pair of ankle boots misclassified as sandal.\n",
    "\n",
    "### Anyway, if we can filter the pixel quality of training and test set may be our model can do better in identifying sandals and sneakers. \n",
    "\n",
    "# This can be future work!\n",
    "\n",
    "### ----------------------------------------------Thank you---------------------------------------------------"
   ]
  },
  {
   "cell_type": "markdown",
   "metadata": {},
   "source": [
    "### Name: Darshanik Mekapati\n",
    "### UTA ID: 1001904282\n",
    "### INSY 5378 sec - 001"
   ]
  },
  {
   "cell_type": "markdown",
   "metadata": {},
   "source": [
    "#### Due Date: Apr 5 2022 at 7:00 PM"
   ]
  },
  {
   "cell_type": "markdown",
   "metadata": {},
   "source": [
    "## Grading Criteria"
   ]
  },
  {
   "cell_type": "markdown",
   "metadata": {},
   "source": [
    "<table style=\"width:400px;height:200px;border:1px black solid; background-color:white\">\n",
    "    <tr style=\"background-color:white\">\n",
    "        <th style=\"text-align:left;border:1px black solid\">Comprehensiveness</th>\n",
    "        <td style=\"text-align:center;border:1px black solid\"><b>30%</b></td>\n",
    "    </tr>\n",
    "    <tr style=\"background-color:white\">\n",
    "        <th style=\"text-align:left;border:1px black solid\">Correctness</th>\n",
    "        <td style=\"text-align:center;border:1px black solid\"><b>20%</b></td>\n",
    "    </tr>\n",
    "    <tr style=\"background-color:white\">\n",
    "        <th style=\"text-align:left;border:1px black solid\">Complete Report</th>\n",
    "        <td style=\"text-align:center;border:1px black solid\"><b>20%</b></td>\n",
    "    </tr>\n",
    "    <tr style=\"background-color:white\">\n",
    "        <th style=\"text-align:left;border:1px black solid\">Clear Code</th>\n",
    "        <td style=\"text-align:center;border:1px black solid\"><b>20%</b></td>\n",
    "    </tr>\n",
    "    <tr style=\"background-color:white\">\n",
    "        <th style=\"text-align:left;border:1px black solid\">Innovation (Extra)</th>\n",
    "        <td style=\"text-align:center;border:1px black solid\"><b>20%</b></td>\n",
    "    </tr>\n",
    "    <tr style=\"background-color:white\">\n",
    "        <th style=\"text-align:center;border:1px black solid;color:red\"><u>Total</u></th>\n",
    "        <td style=\"text-align:center;border:1px black solid;color:red\"><b stlyle=\"color:red\">110%</b></td>\n",
    "    </tr>\n",
    "</table>"
   ]
  },
  {
   "cell_type": "code",
   "execution_count": null,
   "metadata": {},
   "outputs": [],
   "source": []
  }
 ],
 "metadata": {
  "kernelspec": {
   "display_name": "Python 3 (ipykernel)",
   "language": "python",
   "name": "python3"
  },
  "language_info": {
   "codemirror_mode": {
    "name": "ipython",
    "version": 3
   },
   "file_extension": ".py",
   "mimetype": "text/x-python",
   "name": "python",
   "nbconvert_exporter": "python",
   "pygments_lexer": "ipython3",
   "version": "3.9.7"
  }
 },
 "nbformat": 4,
 "nbformat_minor": 4
}
